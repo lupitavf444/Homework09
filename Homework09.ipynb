{
 "cells": [
  {
   "cell_type": "markdown",
   "metadata": {
    "id": "QshK8s21WBrf"
   },
   "source": [
    "# Homework09\n",
    "\n",
    "Exercises to practice dimensionality reduction with PCA\n",
    "\n",
    "## Goals\n",
    "\n",
    "- Add unsupervised pre-processing to our ML flow: encode -> normalize -> pre-process -> train -> evaluate\n",
    "- Build an intuition for PCA and when/how to use it\n",
    "- Understand the benefits of dimensionality reduction"
   ]
  },
  {
   "cell_type": "markdown",
   "metadata": {
    "id": "7Hf8SXUwWOho"
   },
   "source": [
    "### Setup\n",
    "\n",
    "Run the following 2 cells to import all necessary libraries and helpers for this homework."
   ]
  },
  {
   "cell_type": "code",
   "execution_count": 2,
   "metadata": {},
   "outputs": [],
   "source": [
    "!wget -q https://github.com/PSAM-5020-2025S-A/5020-utils/raw/main/src/data_utils.py\n",
    "!wget -q https://github.com/PSAM-5020-2025S-A/5020-utils/raw/main/src/image_utils.py\n",
    "!wget -q https://github.com/PSAM-5020-2025S-A/Homework07/raw/main/Homework07_utils.pyc\n",
    "\n",
    "!wget -qO- https://github.com/PSAM-5020-2025S-A/5020-utils/releases/latest/download/0801-500.tar.gz | tar xz"
   ]
  },
  {
   "cell_type": "code",
   "execution_count": 23,
   "metadata": {},
   "outputs": [],
   "source": [
    "import PIL.Image as PImage\n",
    "\n",
    "import pandas as pd\n",
    "\n",
    "from os import listdir, path\n",
    "\n",
    "from data_utils import PCA, RandomForestClassifier, StandardScaler, SVC, TSNE\n",
    "\n",
    "from image_utils import get_pixels, make_image\n",
    "\n",
    "from Homework07_utils import CamUtils"
   ]
  },
  {
   "cell_type": "markdown",
   "metadata": {},
   "source": [
    "## PCA and Classification\n",
    "\n",
    "Let's practice doing some more image classification with `PCA` and analyzing the results.\n",
    "\n",
    "The dataset is the same one we used in `Homework07`. It has images from $25$ different security cameras, and our task is to separate them by camera. Some of the cameras move, some of them don't, and there are more than $1000$ images, so there's no way we want to do this by hand.\n",
    "\n",
    "Let's start by loading the training images into a list of pixels, like we did with the `faces` dataset in class.\n",
    "\n",
    "### Loading Data\n",
    "\n",
    "If we look at the images in `./data/image/0801-500/train/`, we'll notice that they are named and organized in a slightly different way. They're all in the same directory and the first part of their filename specifies which camera they came from. Even though those `ids` are numbers, they're not sequential, so we'll use some helper functions to extract a unique `label` from their filenames.\n",
    "\n",
    "This is exactly what the `OrdinalEncoder` class does, but since we only have to encode this one column, we'll do it by hand while we read the files in."
   ]
  },
  {
   "cell_type": "code",
   "execution_count": 24,
   "metadata": {},
   "outputs": [],
   "source": [
    "# this creates a list of all the files in a given directory, that end in .jpg\n",
    "train_files = [f for f in listdir(\"./data/image/0801-500/train\") if f.endswith(\".jpg\")]"
   ]
  },
  {
   "cell_type": "code",
   "execution_count": 25,
   "metadata": {
    "tags": [
     "work_cell"
    ]
   },
   "outputs": [
    {
     "data": {
      "text/plain": [
       "['17-85.jpg',\n",
       " '26-29.jpg',\n",
       " '07-11.jpg',\n",
       " '13-47.jpg',\n",
       " '23-73.jpg',\n",
       " '27-15.jpg',\n",
       " '11-94.jpg',\n",
       " '21-51.jpg',\n",
       " '02-48.jpg',\n",
       " '09-48.jpg',\n",
       " '23-28.jpg',\n",
       " '23-41.jpg',\n",
       " '25-71.jpg',\n",
       " '24-09.jpg',\n",
       " '07-75.jpg',\n",
       " '18-31.jpg',\n",
       " '10-50.jpg',\n",
       " '26-16.jpg',\n",
       " '07-31.jpg',\n",
       " '09-62.jpg',\n",
       " '21-08.jpg',\n",
       " '26-61.jpg',\n",
       " '17-66.jpg',\n",
       " '27-47.jpg',\n",
       " '13-56.jpg',\n",
       " '21-60.jpg',\n",
       " '05-15.jpg',\n",
       " '02-36.jpg',\n",
       " '31-20.jpg',\n",
       " '31-08.jpg',\n",
       " '15-30.jpg',\n",
       " '18-10.jpg',\n",
       " '02-14.jpg',\n",
       " '22-00.jpg',\n",
       " '26-35.jpg',\n",
       " '09-04.jpg',\n",
       " '26-50.jpg',\n",
       " '01-38.jpg',\n",
       " '10-43.jpg',\n",
       " '22-53.jpg',\n",
       " '10-48.jpg',\n",
       " '18-29.jpg',\n",
       " '15-22.jpg',\n",
       " '07-85.jpg',\n",
       " '17-81.jpg',\n",
       " '24-52.jpg',\n",
       " '18-21.jpg',\n",
       " '28-69.jpg',\n",
       " '02-21.jpg',\n",
       " '23-64.jpg',\n",
       " '23-51.jpg',\n",
       " '06-30.jpg',\n",
       " '31-21.jpg',\n",
       " '19-30.jpg',\n",
       " '02-40.jpg',\n",
       " '07-15.jpg',\n",
       " '10-61.jpg',\n",
       " '18-03.jpg',\n",
       " '08-35.jpg',\n",
       " '19-37.jpg',\n",
       " '05-42.jpg',\n",
       " '05-49.jpg',\n",
       " '21-15.jpg',\n",
       " '05-25.jpg',\n",
       " '15-07.jpg',\n",
       " '12-06.jpg',\n",
       " '27-05.jpg',\n",
       " '17-54.jpg',\n",
       " '08-50.jpg',\n",
       " '08-22.jpg',\n",
       " '22-14.jpg',\n",
       " '02-06.jpg',\n",
       " '27-45.jpg',\n",
       " '01-33.jpg',\n",
       " '12-00.jpg',\n",
       " '23-46.jpg',\n",
       " '28-67.jpg',\n",
       " '21-28.jpg',\n",
       " '10-40.jpg',\n",
       " '15-10.jpg',\n",
       " '13-09.jpg',\n",
       " '03-05.jpg',\n",
       " '17-90.jpg',\n",
       " '26-74.jpg',\n",
       " '22-58.jpg',\n",
       " '12-19.jpg',\n",
       " '06-37.jpg',\n",
       " '09-75.jpg',\n",
       " '03-69.jpg',\n",
       " '26-22.jpg',\n",
       " '13-03.jpg',\n",
       " '06-32.jpg',\n",
       " '24-50.jpg',\n",
       " '09-65.jpg',\n",
       " '19-64.jpg',\n",
       " '12-16.jpg',\n",
       " '23-07.jpg',\n",
       " '25-14.jpg',\n",
       " '22-06.jpg',\n",
       " '08-00.jpg',\n",
       " '22-38.jpg',\n",
       " '03-78.jpg',\n",
       " '26-62.jpg',\n",
       " '01-46.jpg',\n",
       " '03-20.jpg',\n",
       " '26-60.jpg',\n",
       " '19-60.jpg',\n",
       " '18-55.jpg',\n",
       " '25-42.jpg',\n",
       " '03-13.jpg',\n",
       " '25-38.jpg',\n",
       " '17-57.jpg',\n",
       " '26-04.jpg',\n",
       " '17-10.jpg',\n",
       " '25-83.jpg',\n",
       " '07-09.jpg',\n",
       " '22-36.jpg',\n",
       " '12-54.jpg',\n",
       " '01-19.jpg',\n",
       " '27-12.jpg',\n",
       " '09-06.jpg',\n",
       " '05-02.jpg',\n",
       " '28-17.jpg',\n",
       " '10-90.jpg',\n",
       " '12-30.jpg',\n",
       " '12-21.jpg',\n",
       " '13-04.jpg',\n",
       " '09-86.jpg',\n",
       " '11-48.jpg',\n",
       " '06-75.jpg',\n",
       " '22-48.jpg',\n",
       " '23-63.jpg',\n",
       " '19-62.jpg',\n",
       " '13-10.jpg',\n",
       " '18-34.jpg',\n",
       " '12-40.jpg',\n",
       " '10-70.jpg',\n",
       " '05-29.jpg',\n",
       " '31-15.jpg',\n",
       " '19-20.jpg',\n",
       " '11-25.jpg',\n",
       " '06-53.jpg',\n",
       " '24-33.jpg',\n",
       " '24-58.jpg',\n",
       " '28-62.jpg',\n",
       " '28-06.jpg',\n",
       " '24-10.jpg',\n",
       " '21-17.jpg',\n",
       " '08-53.jpg',\n",
       " '31-06.jpg',\n",
       " '25-81.jpg',\n",
       " '08-27.jpg',\n",
       " '17-29.jpg',\n",
       " '15-42.jpg',\n",
       " '05-22.jpg',\n",
       " '27-50.jpg',\n",
       " '10-49.jpg',\n",
       " '28-64.jpg',\n",
       " '28-27.jpg',\n",
       " '09-41.jpg',\n",
       " '07-42.jpg',\n",
       " '27-02.jpg',\n",
       " '27-08.jpg',\n",
       " '13-52.jpg',\n",
       " '10-15.jpg',\n",
       " '21-35.jpg',\n",
       " '17-51.jpg',\n",
       " '12-32.jpg',\n",
       " '11-27.jpg',\n",
       " '11-04.jpg',\n",
       " '03-23.jpg',\n",
       " '08-52.jpg',\n",
       " '21-38.jpg',\n",
       " '15-13.jpg',\n",
       " '27-09.jpg',\n",
       " '25-47.jpg',\n",
       " '01-07.jpg',\n",
       " '19-48.jpg',\n",
       " '08-19.jpg',\n",
       " '11-87.jpg',\n",
       " '07-12.jpg',\n",
       " '01-17.jpg',\n",
       " '11-67.jpg',\n",
       " '02-31.jpg',\n",
       " '31-19.jpg',\n",
       " '24-01.jpg',\n",
       " '21-21.jpg',\n",
       " '10-26.jpg',\n",
       " '24-22.jpg',\n",
       " '22-43.jpg',\n",
       " '02-47.jpg',\n",
       " '24-44.jpg',\n",
       " '05-30.jpg',\n",
       " '09-30.jpg',\n",
       " '22-42.jpg',\n",
       " '28-74.jpg',\n",
       " '15-38.jpg',\n",
       " '11-74.jpg',\n",
       " '19-17.jpg',\n",
       " '13-32.jpg',\n",
       " '15-18.jpg',\n",
       " '23-60.jpg',\n",
       " '06-15.jpg',\n",
       " '11-45.jpg',\n",
       " '03-67.jpg',\n",
       " '18-33.jpg',\n",
       " '02-24.jpg',\n",
       " '19-84.jpg',\n",
       " '13-26.jpg',\n",
       " '18-57.jpg',\n",
       " '08-48.jpg',\n",
       " '06-47.jpg',\n",
       " '03-79.jpg',\n",
       " '03-35.jpg',\n",
       " '03-36.jpg',\n",
       " '25-65.jpg',\n",
       " '08-21.jpg',\n",
       " '13-21.jpg',\n",
       " '28-77.jpg',\n",
       " '15-49.jpg',\n",
       " '07-01.jpg',\n",
       " '01-30.jpg',\n",
       " '02-30.jpg',\n",
       " '25-23.jpg',\n",
       " '09-38.jpg',\n",
       " '31-13.jpg',\n",
       " '31-11.jpg',\n",
       " '24-24.jpg',\n",
       " '01-32.jpg',\n",
       " '11-60.jpg',\n",
       " '25-69.jpg',\n",
       " '31-02.jpg',\n",
       " '06-63.jpg',\n",
       " '07-48.jpg',\n",
       " '06-36.jpg',\n",
       " '12-44.jpg',\n",
       " '15-48.jpg',\n",
       " '18-20.jpg',\n",
       " '28-78.jpg',\n",
       " '21-52.jpg',\n",
       " '01-39.jpg',\n",
       " '23-48.jpg',\n",
       " '19-74.jpg',\n",
       " '01-40.jpg',\n",
       " '27-20.jpg',\n",
       " '05-40.jpg',\n",
       " '06-17.jpg',\n",
       " '05-21.jpg',\n",
       " '31-05.jpg',\n",
       " '17-40.jpg']"
      ]
     },
     "metadata": {},
     "output_type": "display_data"
    }
   ],
   "source": [
    "# TODO: check and see what is inside the list here\n",
    "display(train_files)"
   ]
  },
  {
   "cell_type": "markdown",
   "metadata": {},
   "source": [
    "Now we'll read the image pixels and extract their labels. `CamUtils.get_label()` is the helper function we'll use to \"encode\" and return a label id based on the filename."
   ]
  },
  {
   "cell_type": "code",
   "execution_count": 27,
   "metadata": {},
   "outputs": [],
   "source": [
    "pixel_data = []\n",
    "label_data = []\n",
    "\n",
    "for fname in train_files:\n",
    "  label = CamUtils.get_label(fname)\n",
    "  img = PImage.open(path.join(\"./data/image/0801-500/train\", fname))\n",
    "  pixel_data.append(get_pixels(img))\n",
    "  label_data.append(label)"
   ]
  },
  {
   "cell_type": "code",
   "execution_count": 28,
   "metadata": {
    "tags": [
     "work_cell"
    ]
   },
   "outputs": [
    {
     "data": {
      "text/plain": [
       "[13,\n",
       " 21,\n",
       " 5,\n",
       " 11,\n",
       " 18,\n",
       " 22,\n",
       " 9,\n",
       " 16,\n",
       " 1,\n",
       " 7,\n",
       " 18,\n",
       " 18,\n",
       " 20,\n",
       " 19,\n",
       " 5,\n",
       " 14,\n",
       " 8,\n",
       " 21,\n",
       " 5,\n",
       " 7,\n",
       " 16,\n",
       " 21,\n",
       " 13,\n",
       " 22,\n",
       " 11,\n",
       " 16,\n",
       " 3,\n",
       " 1,\n",
       " 24,\n",
       " 24,\n",
       " 12,\n",
       " 14,\n",
       " 1,\n",
       " 17,\n",
       " 21,\n",
       " 7,\n",
       " 21,\n",
       " 0,\n",
       " 8,\n",
       " 17,\n",
       " 8,\n",
       " 14,\n",
       " 12,\n",
       " 5,\n",
       " 13,\n",
       " 19,\n",
       " 14,\n",
       " 23,\n",
       " 1,\n",
       " 18,\n",
       " 18,\n",
       " 4,\n",
       " 24,\n",
       " 15,\n",
       " 1,\n",
       " 5,\n",
       " 8,\n",
       " 14,\n",
       " 6,\n",
       " 15,\n",
       " 3,\n",
       " 3,\n",
       " 16,\n",
       " 3,\n",
       " 12,\n",
       " 10,\n",
       " 22,\n",
       " 13,\n",
       " 6,\n",
       " 6,\n",
       " 17,\n",
       " 1,\n",
       " 22,\n",
       " 0,\n",
       " 10,\n",
       " 18,\n",
       " 23,\n",
       " 16,\n",
       " 8,\n",
       " 12,\n",
       " 11,\n",
       " 2,\n",
       " 13,\n",
       " 21,\n",
       " 17,\n",
       " 10,\n",
       " 4,\n",
       " 7,\n",
       " 2,\n",
       " 21,\n",
       " 11,\n",
       " 4,\n",
       " 19,\n",
       " 7,\n",
       " 15,\n",
       " 10,\n",
       " 18,\n",
       " 20,\n",
       " 17,\n",
       " 6,\n",
       " 17,\n",
       " 2,\n",
       " 21,\n",
       " 0,\n",
       " 2,\n",
       " 21,\n",
       " 15,\n",
       " 14,\n",
       " 20,\n",
       " 2,\n",
       " 20,\n",
       " 13,\n",
       " 21,\n",
       " 13,\n",
       " 20,\n",
       " 5,\n",
       " 17,\n",
       " 10,\n",
       " 0,\n",
       " 22,\n",
       " 7,\n",
       " 3,\n",
       " 23,\n",
       " 8,\n",
       " 10,\n",
       " 10,\n",
       " 11,\n",
       " 7,\n",
       " 9,\n",
       " 4,\n",
       " 17,\n",
       " 18,\n",
       " 15,\n",
       " 11,\n",
       " 14,\n",
       " 10,\n",
       " 8,\n",
       " 3,\n",
       " 24,\n",
       " 15,\n",
       " 9,\n",
       " 4,\n",
       " 19,\n",
       " 19,\n",
       " 23,\n",
       " 23,\n",
       " 19,\n",
       " 16,\n",
       " 6,\n",
       " 24,\n",
       " 20,\n",
       " 6,\n",
       " 13,\n",
       " 12,\n",
       " 3,\n",
       " 22,\n",
       " 8,\n",
       " 23,\n",
       " 23,\n",
       " 7,\n",
       " 5,\n",
       " 22,\n",
       " 22,\n",
       " 11,\n",
       " 8,\n",
       " 16,\n",
       " 13,\n",
       " 10,\n",
       " 9,\n",
       " 9,\n",
       " 2,\n",
       " 6,\n",
       " 16,\n",
       " 12,\n",
       " 22,\n",
       " 20,\n",
       " 0,\n",
       " 15,\n",
       " 6,\n",
       " 9,\n",
       " 5,\n",
       " 0,\n",
       " 9,\n",
       " 1,\n",
       " 24,\n",
       " 19,\n",
       " 16,\n",
       " 8,\n",
       " 19,\n",
       " 17,\n",
       " 1,\n",
       " 19,\n",
       " 3,\n",
       " 7,\n",
       " 17,\n",
       " 23,\n",
       " 12,\n",
       " 9,\n",
       " 15,\n",
       " 11,\n",
       " 12,\n",
       " 18,\n",
       " 4,\n",
       " 9,\n",
       " 2,\n",
       " 14,\n",
       " 1,\n",
       " 15,\n",
       " 11,\n",
       " 14,\n",
       " 6,\n",
       " 4,\n",
       " 2,\n",
       " 2,\n",
       " 2,\n",
       " 20,\n",
       " 6,\n",
       " 11,\n",
       " 23,\n",
       " 12,\n",
       " 5,\n",
       " 0,\n",
       " 1,\n",
       " 20,\n",
       " 7,\n",
       " 24,\n",
       " 24,\n",
       " 19,\n",
       " 0,\n",
       " 9,\n",
       " 20,\n",
       " 24,\n",
       " 4,\n",
       " 5,\n",
       " 4,\n",
       " 10,\n",
       " 12,\n",
       " 14,\n",
       " 23,\n",
       " 16,\n",
       " 0,\n",
       " 18,\n",
       " 15,\n",
       " 0,\n",
       " 22,\n",
       " 3,\n",
       " 4,\n",
       " 3,\n",
       " 24,\n",
       " 13]"
      ]
     },
     "metadata": {},
     "output_type": "display_data"
    }
   ],
   "source": [
    "# TODO: check if labels got extracted correctly by looking at \n",
    "#       the first few items of the label list and the filename list\n",
    "\n",
    "display(label_data)"
   ]
  },
  {
   "cell_type": "markdown",
   "metadata": {},
   "source": [
    "Like in `Homework07`, the labels and the filenames won't match exactly since labels start at $0$ and the filenames start at $01$ and skip some numbers.\n",
    "\n",
    "We can open some images from pixels, just to make sure we loaded them correctly:"
   ]
  },
  {
   "cell_type": "code",
   "execution_count": 29,
   "metadata": {},
   "outputs": [
    {
     "data": {
      "image/jpeg": "[encoded data removed]",
      "image/png": "[encoded data removed]",
      "text/plain": [
       "<PIL.Image.Image image mode=L size=256x256>"
      ]
     },
     "metadata": {},
     "output_type": "display_data"
    },
    {
     "data": {
      "image/jpeg": "[encoded data removed]",
      "image/png": "[encoded data removed]",
      "text/plain": [
       "<PIL.Image.Image image mode=L size=256x256>"
      ]
     },
     "metadata": {},
     "output_type": "display_data"
    }
   ],
   "source": [
    "display(make_image(pixel_data[0], width=256))\n",
    "display(make_image(pixel_data[10], width=256))"
   ]
  },
  {
   "cell_type": "markdown",
   "metadata": {},
   "source": [
    "### PCA\n",
    "\n",
    "Create a `DataFrame` called `cam_pca_df` by running `PCA` on the list of pixel data, just like we did in class, and then append a `label` column to it, just like we did in Homewokr07 with: `train_df[\"label\"] = label_data`.\n",
    "\n",
    "You can change how many components to extract from the images later, but for this first run just use $10$ components so we can compare classification with $10$ `PCA` components to the classification with $10$ random features from `Homework07`.  Make sure to confirm how much of the `variance` is preserved by this transformation."
   ]
  },
  {
   "cell_type": "code",
   "execution_count": 42,
   "metadata": {
    "tags": [
     "work_cell"
    ]
   },
   "outputs": [
    {
     "name": "stdout",
     "output_type": "stream",
     "text": [
      "Explained variance ratio: [0.24273758 0.14776564 0.12324789 0.08042213 0.05193327 0.03765846\n",
      " 0.03234669 0.02826384 0.02169188 0.01918686 0.01578644 0.01436768]\n",
      "           PC0          PC1          PC2          PC3          PC4  \\\n",
      "0  1211.783230   877.945502 -2586.613111  5250.305548  2018.253047   \n",
      "1  4362.018543  -249.771418  3036.742721  3715.018330  -845.729402   \n",
      "2 -2187.666720 -8270.230054  9307.806825 -6118.796975 -3623.729167   \n",
      "3 -4669.555572 -5856.007913   289.554544  5548.766835 -2111.406922   \n",
      "4  1670.591181 -6361.599954 -3268.298514  8846.542068  1572.842826   \n",
      "\n",
      "           PC5          PC6          PC7          PC8          PC9  \\\n",
      "0  1691.885199   760.715219  1184.220756   444.215571   157.598460   \n",
      "1   602.730807 -2545.033851 -3608.103576  -183.697591   140.643487   \n",
      "2 -1108.252582 -2116.142159  3221.047144 -2980.603367 -4233.385958   \n",
      "3 -2685.842922  4713.118926  4217.372008  -511.365213  2084.897128   \n",
      "4  6545.545235  3806.845100 -1329.317918 -1578.352566 -2953.061938   \n",
      "\n",
      "          PC10         PC11  label  \n",
      "0 -1300.447874 -1530.916363     13  \n",
      "1 -1773.077195    -6.234616     21  \n",
      "2    27.579411  1140.462939      5  \n",
      "3 -2114.990283   192.188409     11  \n",
      "4  4212.487970  -131.999865     18  \n"
     ]
    }
   ],
   "source": [
    "# TODO: run PCA, get DataFrame\n",
    "pca = PCA(n_components=12)\n",
    "pca_result = pca.fit_transform(pixel_data)\n",
    "\n",
    "cam_pca_df = pd.DataFrame(pca_result)\n",
    "\n",
    "# TODO: add \"label\" column\n",
    "cam_pca_df[\"label\"] = label_data\n",
    "cam_pca_df.head()\n",
    "# TODO: print variance\n",
    "print(\"Explained variance ratio:\", pca.explained_variance_ratio_)\n",
    "# TODO: take a look at the first 5 rows\n",
    "print(cam_pca_df.head())"
   ]
  },
  {
   "cell_type": "markdown",
   "metadata": {},
   "source": [
    "### Interpretation\n",
    "\n",
    "<span style=\"color:hotpink\">\n",
    "How many components did you keep ?<br>\n",
    "Did you try different numbers ?<br>\n",
    "What percent of variance is kept by this transformation?\n",
    "</span>"
   ]
  },
  {
   "cell_type": "markdown",
   "metadata": {
    "tags": [
     "work_cell"
    ]
   },
   "source": [
    "<span style=\"color:hotpink;\">EDIT THIS CELL WITH ANSWER</span>"
   ]
  },
  {
   "cell_type": "code",
   "execution_count": 43,
   "metadata": {},
   "outputs": [
    {
     "name": "stdout",
     "output_type": "stream",
     "text": [
      "Number of components kept: 12\n"
     ]
    }
   ],
   "source": [
    "# How many components did you keep?\n",
    "num_components = pca.n_components_\n",
    "print(\"Number of components kept:\", num_components)"
   ]
  },
  {
   "cell_type": "code",
   "execution_count": null,
   "metadata": {},
   "outputs": [
    {
     "name": "stdout",
     "output_type": "stream",
     "text": [
      "Total variance explained: 81.54%\n"
     ]
    }
   ],
   "source": [
    "# What percent of variance is kept by this transformation?\n",
    "total_variance = sum(pca.explained_variance_ratio_)\n",
    "print(f\"Total variance explained: {total_variance:.2%}\")\n",
    "\n",
    "# I found out that keeping n=8 we get a total variance of 74.44%, while 10 gives us 78.53%. n=12 gives us 81.54%. \n"
   ]
  },
  {
   "cell_type": "code",
   "execution_count": null,
   "metadata": {},
   "outputs": [],
   "source": []
  },
  {
   "cell_type": "markdown",
   "metadata": {},
   "source": [
    "### Reconstruct\n",
    "\n",
    "Before we go run our classification, let's take a look at some reconstructed images, just to make sure they make sense.\n",
    "\n",
    "Take a look at reconstructed versions of images $0$, $10$, and whichever other images you might have opened above.\n",
    "\n",
    "We did this in class. It involves a `inverse_transform()` function."
   ]
  },
  {
   "cell_type": "code",
   "execution_count": null,
   "metadata": {
    "tags": [
     "work_cell"
    ]
   },
   "outputs": [],
   "source": [
    "# TODO: reconstruct image at index 0\n",
    "\n",
    "# TODO: reconstruct image at index 10"
   ]
  },
  {
   "cell_type": "markdown",
   "metadata": {},
   "source": [
    "The reconstructed images should look blurrier and noisier than the original ones, but they should still look something like the original ones.\n",
    "\n",
    "### Classify !\n",
    "\n",
    "Train a `RandomForestClassifier` on the `PCA` data.\n",
    "\n",
    "Remember to separate the output feature (`label`) from the input features (`PC0`, `PC1`, etc)."
   ]
  },
  {
   "cell_type": "code",
   "execution_count": null,
   "metadata": {
    "tags": [
     "work_cell"
    ]
   },
   "outputs": [],
   "source": [
    "# TODO: create a classifier\n",
    "# TODO: split input and output features\n",
    "# TODO: fit the model\n",
    "# TODO: run predictions"
   ]
  },
  {
   "cell_type": "markdown",
   "metadata": {},
   "source": [
    "### Measure Error\n",
    "\n",
    "For the train set we could use the generic `classification_error()` function that we've used before because we have the true labels for each file, but for measuring accuracy for our `test` set classification, which has secret labels, we have to use a more specific function from the `CamUtils` class.\n",
    "\n",
    "The function is called `classification_accuracy()` and it takes $2$ parameters, a list of filenames and the predicted labels associated with those filenames.\n",
    "\n",
    "The result is an accuracy score ratio, between $0.0$ and $1.0$.\n",
    "\n",
    "We can run this function on the `train` set as well:"
   ]
  },
  {
   "cell_type": "code",
   "execution_count": null,
   "metadata": {},
   "outputs": [],
   "source": [
    "# train_files is the list of files we got way up above\n",
    "CamUtils.classification_accuracy(train_files, train_predictions)"
   ]
  },
  {
   "cell_type": "markdown",
   "metadata": {},
   "source": [
    "### Interpretation\n",
    "\n",
    "<span style=\"color:hotpink\">\n",
    "What does this mean?<br>\n",
    "Should we expect the same result from the test dataset?<br>\n",
    "Why, or why not?\n",
    "</span>"
   ]
  },
  {
   "cell_type": "markdown",
   "metadata": {
    "tags": [
     "work_cell"
    ]
   },
   "source": [
    "<span style=\"color:hotpink;\">EDIT THIS CELL WITH ANSWER</span>"
   ]
  },
  {
   "cell_type": "markdown",
   "metadata": {},
   "source": [
    "### Run on Test set\n",
    "\n",
    "Now we'll open the image files inside the `./data/image/0801-500/test/` directory, using almost the exact same steps as we did above to create a `DataFrame` with the exception that we don't have labels for these images."
   ]
  },
  {
   "cell_type": "code",
   "execution_count": null,
   "metadata": {
    "tags": [
     "work_cell"
    ]
   },
   "outputs": [],
   "source": [
    "# TODO: create a list of files in the test/ directory\n",
    "test_files = []\n",
    "\n",
    "# TODO: check its length and content"
   ]
  },
  {
   "cell_type": "markdown",
   "metadata": {},
   "source": [
    "We'll use a similar loop to extract the pixel information from these images, except we don't have `label` data, just pixels."
   ]
  },
  {
   "cell_type": "code",
   "execution_count": null,
   "metadata": {},
   "outputs": [],
   "source": [
    "test_pixel_data = []\n",
    "\n",
    "for fname in test_files:\n",
    "  img = PImage.open(path.join(\"./data/image/0801-500/test\", fname))\n",
    "  test_pixel_data.append(get_pixels(img))"
   ]
  },
  {
   "cell_type": "markdown",
   "metadata": {},
   "source": [
    "Now we can run `PCA` and the `RandomForestClassifier`.\n",
    "\n",
    "Since those are already trained, all we have to do is run their `transform()` function on the data."
   ]
  },
  {
   "cell_type": "code",
   "execution_count": null,
   "metadata": {
    "tags": [
     "work_cell"
    ]
   },
   "outputs": [],
   "source": [
    "# TODO: run PCA on test pixels, get DataFrame\n",
    "#       this is the same PCA that was created above, not a new one"
   ]
  },
  {
   "cell_type": "markdown",
   "metadata": {},
   "source": [
    "It's always a good idea to check the result of the `PCA` transformation by looking at the `DataFrame` and reconstructing some images."
   ]
  },
  {
   "cell_type": "code",
   "execution_count": null,
   "metadata": {
    "tags": [
     "work_cell"
    ]
   },
   "outputs": [],
   "source": [
    "# TODO: reconstruct one or two images\n",
    "\n",
    "# TODO: take a look at the first 5 rows"
   ]
  },
  {
   "cell_type": "markdown",
   "metadata": {},
   "source": [
    "### Interpretation\n",
    "\n",
    "<span style=\"color:hotpink\"><br>\n",
    "The reconstructed images from the `test` set will always be noisier than the `train` images.<br><br>\n",
    "Why?<br><br>\n",
    "</span>"
   ]
  },
  {
   "cell_type": "markdown",
   "metadata": {
    "tags": [
     "work_cell"
    ]
   },
   "source": [
    "<span style=\"color:hotpink;\">EDIT THIS CELL WITH ANSWER</span>"
   ]
  },
  {
   "cell_type": "markdown",
   "metadata": {},
   "source": [
    "\n",
    "\n",
    "Run the classifier and get predicted labels. Then get its accuracy ratio is by running the `CamUtils.classification_accuracy()` function with the list of filenames and list of predictions."
   ]
  },
  {
   "cell_type": "code",
   "execution_count": null,
   "metadata": {
    "tags": [
     "work_cell"
    ]
   },
   "outputs": [],
   "source": [
    "# TODO: run classifier. This is the same classifier already fitted on the train data above\n",
    "\n",
    "# TODO: get accuracy"
   ]
  },
  {
   "cell_type": "markdown",
   "metadata": {},
   "source": [
    "### Interpretation\n",
    "\n",
    "<span style=\"color:hotpink\">\n",
    "What's the accuracy ? How could we improve that if we wanted ?<br>\n",
    "How does this compare to the classification model from <code>Homework07</code>? They can both be tuned to perform well, but how many features did we need last time in order to get an accuracy comparable to this?\n",
    "</span>"
   ]
  },
  {
   "cell_type": "markdown",
   "metadata": {
    "tags": [
     "work_cell"
    ]
   },
   "source": [
    "<span style=\"color:hotpink;\">EDIT THIS CELL WITH ANSWER</span>"
   ]
  }
 ],
 "metadata": {
  "colab": {
   "authorship_tag": "ABX9TyPxe2qYxIG7EblrvD1C4Pmv",
   "provenance": []
  },
  "kernelspec": {
   "display_name": "Python 3",
   "language": "python",
   "name": "python3"
  },
  "language_info": {
   "codemirror_mode": {
    "name": "ipython",
    "version": 3
   },
   "file_extension": ".py",
   "mimetype": "text/x-python",
   "name": "python",
   "nbconvert_exporter": "python",
   "pygments_lexer": "ipython3",
   "version": "3.10.17"
  }
 },
 "nbformat": 4,
 "nbformat_minor": 0
}
